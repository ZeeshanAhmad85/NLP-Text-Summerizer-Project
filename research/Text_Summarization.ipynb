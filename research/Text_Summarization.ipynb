{
 "cells": [
  {
   "cell_type": "code",
   "execution_count": 1,
   "metadata": {},
   "outputs": [
    {
     "name": "stdout",
     "output_type": "stream",
     "text": [
      "Sun Sep 10 01:09:33 2023       \n",
      "+---------------------------------------------------------------------------------------+\n",
      "| NVIDIA-SMI 537.13                 Driver Version: 537.13       CUDA Version: 12.2     |\n",
      "|-----------------------------------------+----------------------+----------------------+\n",
      "| GPU  Name                     TCC/WDDM  | Bus-Id        Disp.A | Volatile Uncorr. ECC |\n",
      "| Fan  Temp   Perf          Pwr:Usage/Cap |         Memory-Usage | GPU-Util  Compute M. |\n",
      "|                                         |                      |               MIG M. |\n",
      "|=========================================+======================+======================|\n",
      "|   0  NVIDIA GeForce GTX 1650      WDDM  | 00000000:01:00.0 Off |                  N/A |\n",
      "| N/A   42C    P3              12W /  30W |      0MiB /  4096MiB |      0%      Default |\n",
      "|                                         |                      |                  N/A |\n",
      "+-----------------------------------------+----------------------+----------------------+\n",
      "                                                                                         \n",
      "+---------------------------------------------------------------------------------------+\n",
      "| Processes:                                                                            |\n",
      "|  GPU   GI   CI        PID   Type   Process name                            GPU Memory |\n",
      "|        ID   ID                                                             Usage      |\n",
      "|=======================================================================================|\n",
      "|  No running processes found                                                           |\n",
      "+---------------------------------------------------------------------------------------+\n"
     ]
    }
   ],
   "source": [
    "!nvidia-smi"
   ]
  },
  {
   "cell_type": "code",
   "execution_count": 2,
   "metadata": {},
   "outputs": [],
   "source": [
    "%pip install transformers[sentencepiece] datasets sacrebleu rouge_score py7zr -q"
   ]
  },
  {
   "cell_type": "code",
   "execution_count": 3,
   "metadata": {},
   "outputs": [
    {
     "name": "stdout",
     "output_type": "stream",
     "text": [
      "Collecting accelerate\n",
      "  Obtaining dependency information for accelerate from https://files.pythonhosted.org/packages/4d/a7/05c67003d659a0035f2b3a8cf389c1d9645865aee84a73ce99ddab16682f/accelerate-0.22.0-py3-none-any.whl.metadata\n",
      "  Downloading accelerate-0.22.0-py3-none-any.whl.metadata (17 kB)\n",
      "Requirement already satisfied: numpy>=1.17 in c:\\users\\zeeshan ahmed\\anaconda3\\envs\\textsummerizer\\lib\\site-packages (from accelerate) (1.25.2)\n",
      "Requirement already satisfied: packaging>=20.0 in c:\\users\\zeeshan ahmed\\appdata\\roaming\\python\\python39\\site-packages (from accelerate) (23.1)\n",
      "Requirement already satisfied: psutil in c:\\users\\zeeshan ahmed\\appdata\\roaming\\python\\python39\\site-packages (from accelerate) (5.9.5)\n",
      "Requirement already satisfied: pyyaml in c:\\users\\zeeshan ahmed\\anaconda3\\envs\\textsummerizer\\lib\\site-packages (from accelerate) (6.0.1)\n",
      "Collecting torch>=1.10.0 (from accelerate)\n",
      "  Using cached torch-2.0.1-cp39-cp39-win_amd64.whl (172.4 MB)\n",
      "Requirement already satisfied: filelock in c:\\users\\zeeshan ahmed\\anaconda3\\envs\\textsummerizer\\lib\\site-packages (from torch>=1.10.0->accelerate) (3.12.3)\n",
      "Requirement already satisfied: typing-extensions in c:\\users\\zeeshan ahmed\\anaconda3\\envs\\textsummerizer\\lib\\site-packages (from torch>=1.10.0->accelerate) (4.7.1)\n",
      "Collecting sympy (from torch>=1.10.0->accelerate)\n",
      "  Downloading sympy-1.12-py3-none-any.whl (5.7 MB)\n",
      "     ---------------------------------------- 0.0/5.7 MB ? eta -:--:--\n",
      "     ---------------------------------------- 0.0/5.7 MB ? eta -:--:--\n",
      "     ---------------------------------------- 0.0/5.7 MB ? eta -:--:--\n",
      "     ---------------------------------------- 0.0/5.7 MB 281.8 kB/s eta 0:00:21\n",
      "      --------------------------------------- 0.1/5.7 MB 459.5 kB/s eta 0:00:13\n",
      "      --------------------------------------- 0.1/5.7 MB 547.6 kB/s eta 0:00:11\n",
      "     - -------------------------------------- 0.2/5.7 MB 700.2 kB/s eta 0:00:08\n",
      "     - -------------------------------------- 0.3/5.7 MB 864.9 kB/s eta 0:00:07\n",
      "     -- ------------------------------------- 0.3/5.7 MB 967.8 kB/s eta 0:00:06\n",
      "     --- ------------------------------------ 0.5/5.7 MB 1.3 MB/s eta 0:00:05\n",
      "     ---- ----------------------------------- 0.6/5.7 MB 1.4 MB/s eta 0:00:04\n",
      "     ----- ---------------------------------- 0.8/5.7 MB 1.7 MB/s eta 0:00:03\n",
      "     ------ --------------------------------- 1.0/5.7 MB 1.9 MB/s eta 0:00:03\n",
      "     ------- -------------------------------- 1.1/5.7 MB 1.8 MB/s eta 0:00:03\n",
      "     -------- ------------------------------- 1.2/5.7 MB 1.9 MB/s eta 0:00:03\n",
      "     --------- ------------------------------ 1.3/5.7 MB 2.0 MB/s eta 0:00:03\n",
      "     ----------- ---------------------------- 1.6/5.7 MB 2.2 MB/s eta 0:00:02\n",
      "     ------------- -------------------------- 1.9/5.7 MB 2.5 MB/s eta 0:00:02\n",
      "     --------------- ------------------------ 2.3/5.7 MB 2.8 MB/s eta 0:00:02\n",
      "     ----------------- ---------------------- 2.5/5.7 MB 3.0 MB/s eta 0:00:02\n",
      "     ------------------- -------------------- 2.8/5.7 MB 3.1 MB/s eta 0:00:01\n",
      "     --------------------- ------------------ 3.1/5.7 MB 3.2 MB/s eta 0:00:01\n",
      "     ------------------------ --------------- 3.5/5.7 MB 3.5 MB/s eta 0:00:01\n",
      "     --------------------------- ------------ 4.0/5.7 MB 3.8 MB/s eta 0:00:01\n",
      "     ------------------------------ --------- 4.4/5.7 MB 4.1 MB/s eta 0:00:01\n",
      "     --------------------------------- ------ 4.8/5.7 MB 4.2 MB/s eta 0:00:01\n",
      "     ------------------------------------ --- 5.2/5.7 MB 4.4 MB/s eta 0:00:01\n",
      "     -------------------------------------- - 5.6/5.7 MB 4.4 MB/s eta 0:00:01\n",
      "     ---------------------------------------  5.7/5.7 MB 4.5 MB/s eta 0:00:01\n",
      "     ---------------------------------------- 5.7/5.7 MB 4.4 MB/s eta 0:00:00\n",
      "Collecting networkx (from torch>=1.10.0->accelerate)\n",
      "  Downloading networkx-3.1-py3-none-any.whl (2.1 MB)\n",
      "     ---------------------------------------- 0.0/2.1 MB ? eta -:--:--\n",
      "     --- ------------------------------------ 0.2/2.1 MB 5.8 MB/s eta 0:00:01\n",
      "     --------- ------------------------------ 0.5/2.1 MB 6.2 MB/s eta 0:00:01\n",
      "     ---------------- ----------------------- 0.8/2.1 MB 6.6 MB/s eta 0:00:01\n",
      "     ---------------------- ----------------- 1.2/2.1 MB 6.8 MB/s eta 0:00:01\n",
      "     -------------------------- ------------- 1.4/2.1 MB 6.3 MB/s eta 0:00:01\n",
      "     ------------------------------- -------- 1.6/2.1 MB 6.0 MB/s eta 0:00:01\n",
      "     ---------------------------------- ----- 1.8/2.1 MB 5.9 MB/s eta 0:00:01\n",
      "     -------------------------------------- - 2.0/2.1 MB 5.5 MB/s eta 0:00:01\n",
      "     ---------------------------------------- 2.1/2.1 MB 5.3 MB/s eta 0:00:00\n",
      "Collecting jinja2 (from torch>=1.10.0->accelerate)\n",
      "  Using cached Jinja2-3.1.2-py3-none-any.whl (133 kB)\n",
      "Collecting MarkupSafe>=2.0 (from jinja2->torch>=1.10.0->accelerate)\n",
      "  Obtaining dependency information for MarkupSafe>=2.0 from https://files.pythonhosted.org/packages/a2/b2/624042cb58cc6b3529a6c3a7b7d230766e3ecb768cba118ba7befd18ed6f/MarkupSafe-2.1.3-cp39-cp39-win_amd64.whl.metadata\n",
      "  Downloading MarkupSafe-2.1.3-cp39-cp39-win_amd64.whl.metadata (3.1 kB)\n",
      "Collecting mpmath>=0.19 (from sympy->torch>=1.10.0->accelerate)\n",
      "  Downloading mpmath-1.3.0-py3-none-any.whl (536 kB)\n",
      "     ---------------------------------------- 0.0/536.2 kB ? eta -:--:--\n",
      "     -------------- ---------------------- 204.8/536.2 kB 12.2 MB/s eta 0:00:01\n",
      "     -------------------------------------- 536.2/536.2 kB 8.3 MB/s eta 0:00:00\n",
      "Downloading accelerate-0.22.0-py3-none-any.whl (251 kB)\n",
      "   ---------------------------------------- 0.0/251.2 kB ? eta -:--:--\n",
      "   ---------------------------------------- 251.2/251.2 kB 7.8 MB/s eta 0:00:00\n",
      "Using cached MarkupSafe-2.1.3-cp39-cp39-win_amd64.whl (17 kB)\n",
      "Installing collected packages: mpmath, sympy, networkx, MarkupSafe, jinja2, torch, accelerate\n",
      "Successfully installed MarkupSafe-2.1.3 accelerate-0.22.0 jinja2-3.1.2 mpmath-1.3.0 networkx-3.1 sympy-1.12 torch-2.0.1\n",
      "Found existing installation: transformers 4.33.1\n",
      "Uninstalling transformers-4.33.1:\n",
      "  Successfully uninstalled transformers-4.33.1\n",
      "Found existing installation: accelerate 0.22.0\n",
      "Uninstalling accelerate-0.22.0:\n",
      "  Successfully uninstalled accelerate-0.22.0\n",
      "Collecting transformers\n",
      "  Obtaining dependency information for transformers from https://files.pythonhosted.org/packages/13/30/54b59e73400df3de506ad8630284e9fd63f4b94f735423d55fc342181037/transformers-4.33.1-py3-none-any.whl.metadata\n",
      "  Using cached transformers-4.33.1-py3-none-any.whl.metadata (119 kB)\n",
      "Collecting accelerate\n",
      "  Obtaining dependency information for accelerate from https://files.pythonhosted.org/packages/4d/a7/05c67003d659a0035f2b3a8cf389c1d9645865aee84a73ce99ddab16682f/accelerate-0.22.0-py3-none-any.whl.metadata\n",
      "  Using cached accelerate-0.22.0-py3-none-any.whl.metadata (17 kB)\n",
      "Requirement already satisfied: filelock in c:\\users\\zeeshan ahmed\\anaconda3\\envs\\textsummerizer\\lib\\site-packages (from transformers) (3.12.3)\n",
      "Requirement already satisfied: huggingface-hub<1.0,>=0.15.1 in c:\\users\\zeeshan ahmed\\anaconda3\\envs\\textsummerizer\\lib\\site-packages (from transformers) (0.16.4)\n",
      "Requirement already satisfied: numpy>=1.17 in c:\\users\\zeeshan ahmed\\anaconda3\\envs\\textsummerizer\\lib\\site-packages (from transformers) (1.25.2)\n",
      "Requirement already satisfied: packaging>=20.0 in c:\\users\\zeeshan ahmed\\appdata\\roaming\\python\\python39\\site-packages (from transformers) (23.1)\n",
      "Requirement already satisfied: pyyaml>=5.1 in c:\\users\\zeeshan ahmed\\anaconda3\\envs\\textsummerizer\\lib\\site-packages (from transformers) (6.0.1)\n",
      "Requirement already satisfied: regex!=2019.12.17 in c:\\users\\zeeshan ahmed\\anaconda3\\envs\\textsummerizer\\lib\\site-packages (from transformers) (2023.8.8)\n",
      "Requirement already satisfied: requests in c:\\users\\zeeshan ahmed\\anaconda3\\envs\\textsummerizer\\lib\\site-packages (from transformers) (2.31.0)\n",
      "Requirement already satisfied: tokenizers!=0.11.3,<0.14,>=0.11.1 in c:\\users\\zeeshan ahmed\\anaconda3\\envs\\textsummerizer\\lib\\site-packages (from transformers) (0.13.3)\n",
      "Requirement already satisfied: safetensors>=0.3.1 in c:\\users\\zeeshan ahmed\\anaconda3\\envs\\textsummerizer\\lib\\site-packages (from transformers) (0.3.3)\n",
      "Requirement already satisfied: tqdm>=4.27 in c:\\users\\zeeshan ahmed\\anaconda3\\envs\\textsummerizer\\lib\\site-packages (from transformers) (4.66.1)\n",
      "Requirement already satisfied: psutil in c:\\users\\zeeshan ahmed\\appdata\\roaming\\python\\python39\\site-packages (from accelerate) (5.9.5)\n",
      "Requirement already satisfied: torch>=1.10.0 in c:\\users\\zeeshan ahmed\\anaconda3\\envs\\textsummerizer\\lib\\site-packages (from accelerate) (2.0.1)\n",
      "Requirement already satisfied: fsspec in c:\\users\\zeeshan ahmed\\anaconda3\\envs\\textsummerizer\\lib\\site-packages (from huggingface-hub<1.0,>=0.15.1->transformers) (2023.6.0)\n",
      "Requirement already satisfied: typing-extensions>=3.7.4.3 in c:\\users\\zeeshan ahmed\\anaconda3\\envs\\textsummerizer\\lib\\site-packages (from huggingface-hub<1.0,>=0.15.1->transformers) (4.7.1)\n",
      "Requirement already satisfied: sympy in c:\\users\\zeeshan ahmed\\anaconda3\\envs\\textsummerizer\\lib\\site-packages (from torch>=1.10.0->accelerate) (1.12)\n",
      "Requirement already satisfied: networkx in c:\\users\\zeeshan ahmed\\anaconda3\\envs\\textsummerizer\\lib\\site-packages (from torch>=1.10.0->accelerate) (3.1)\n",
      "Requirement already satisfied: jinja2 in c:\\users\\zeeshan ahmed\\anaconda3\\envs\\textsummerizer\\lib\\site-packages (from torch>=1.10.0->accelerate) (3.1.2)\n",
      "Requirement already satisfied: colorama in c:\\users\\zeeshan ahmed\\appdata\\roaming\\python\\python39\\site-packages (from tqdm>=4.27->transformers) (0.4.6)\n",
      "Requirement already satisfied: charset-normalizer<4,>=2 in c:\\users\\zeeshan ahmed\\anaconda3\\envs\\textsummerizer\\lib\\site-packages (from requests->transformers) (3.2.0)\n",
      "Requirement already satisfied: idna<4,>=2.5 in c:\\users\\zeeshan ahmed\\anaconda3\\envs\\textsummerizer\\lib\\site-packages (from requests->transformers) (3.4)\n",
      "Requirement already satisfied: urllib3<3,>=1.21.1 in c:\\users\\zeeshan ahmed\\anaconda3\\envs\\textsummerizer\\lib\\site-packages (from requests->transformers) (2.0.4)\n",
      "Requirement already satisfied: certifi>=2017.4.17 in c:\\users\\zeeshan ahmed\\anaconda3\\envs\\textsummerizer\\lib\\site-packages (from requests->transformers) (2023.7.22)\n",
      "Requirement already satisfied: MarkupSafe>=2.0 in c:\\users\\zeeshan ahmed\\anaconda3\\envs\\textsummerizer\\lib\\site-packages (from jinja2->torch>=1.10.0->accelerate) (2.1.3)\n",
      "Requirement already satisfied: mpmath>=0.19 in c:\\users\\zeeshan ahmed\\anaconda3\\envs\\textsummerizer\\lib\\site-packages (from sympy->torch>=1.10.0->accelerate) (1.3.0)\n",
      "Using cached transformers-4.33.1-py3-none-any.whl (7.6 MB)\n",
      "Using cached accelerate-0.22.0-py3-none-any.whl (251 kB)\n",
      "Installing collected packages: transformers, accelerate\n",
      "Successfully installed accelerate-0.22.0 transformers-4.33.1\n"
     ]
    }
   ],
   "source": [
    "%pip install --upgrade accelerate\n",
    "%pip uninstall -y transformers accelerate\n",
    "%pip install transformers accelerate\n",
    "     "
   ]
  },
  {
   "cell_type": "code",
   "execution_count": 6,
   "metadata": {},
   "outputs": [
    {
     "name": "stdout",
     "output_type": "stream",
     "text": [
      "Collecting matplotlib\n",
      "  Obtaining dependency information for matplotlib from https://files.pythonhosted.org/packages/c9/46/6cbaf20f5bd0e7c1d204b45b853c2cd317b303fada90245f2825ecca47de/matplotlib-3.7.2-cp39-cp39-win_amd64.whl.metadata\n",
      "  Downloading matplotlib-3.7.2-cp39-cp39-win_amd64.whl.metadata (5.8 kB)\n",
      "Collecting contourpy>=1.0.1 (from matplotlib)\n",
      "  Obtaining dependency information for contourpy>=1.0.1 from https://files.pythonhosted.org/packages/a5/d6/80258c2759bd34abe267b5d3bc6300f7105aa70181b99d531283f7e7c79e/contourpy-1.1.0-cp39-cp39-win_amd64.whl.metadata\n",
      "  Downloading contourpy-1.1.0-cp39-cp39-win_amd64.whl.metadata (5.7 kB)\n",
      "Collecting cycler>=0.10 (from matplotlib)\n",
      "  Using cached cycler-0.11.0-py3-none-any.whl (6.4 kB)\n",
      "Collecting fonttools>=4.22.0 (from matplotlib)\n",
      "  Obtaining dependency information for fonttools>=4.22.0 from https://files.pythonhosted.org/packages/1b/6d/93121de94919bd072a93131167d7c6244eb26fe9f2f897ddfee8eb550ffa/fonttools-4.42.1-cp39-cp39-win_amd64.whl.metadata\n",
      "  Downloading fonttools-4.42.1-cp39-cp39-win_amd64.whl.metadata (154 kB)\n",
      "     ---------------------------------------- 0.0/154.1 kB ? eta -:--:--\n",
      "     ---------------------------------------- 0.0/154.1 kB ? eta -:--:--\n",
      "     -- ------------------------------------- 10.2/154.1 kB ? eta -:--:--\n",
      "     ------- ------------------------------- 30.7/154.1 kB 1.4 MB/s eta 0:00:01\n",
      "     -------------- ---------------------- 61.4/154.1 kB 469.7 kB/s eta 0:00:01\n",
      "     ---------------------- -------------- 92.2/154.1 kB 525.1 kB/s eta 0:00:01\n",
      "     -----------------------------------  153.6/154.1 kB 706.2 kB/s eta 0:00:01\n",
      "     ------------------------------------ 154.1/154.1 kB 659.8 kB/s eta 0:00:00\n",
      "Collecting kiwisolver>=1.0.1 (from matplotlib)\n",
      "  Obtaining dependency information for kiwisolver>=1.0.1 from https://files.pythonhosted.org/packages/ca/c1/1f986c8119c0c57c2bd71d1941da23332c38ee2c90117e46dff4358b70f7/kiwisolver-1.4.5-cp39-cp39-win_amd64.whl.metadata\n",
      "  Downloading kiwisolver-1.4.5-cp39-cp39-win_amd64.whl.metadata (6.5 kB)\n",
      "Requirement already satisfied: numpy>=1.20 in c:\\users\\zeeshan ahmed\\anaconda3\\envs\\textsummerizer\\lib\\site-packages (from matplotlib) (1.25.2)\n",
      "Requirement already satisfied: packaging>=20.0 in c:\\users\\zeeshan ahmed\\appdata\\roaming\\python\\python39\\site-packages (from matplotlib) (23.1)\n",
      "Collecting pillow>=6.2.0 (from matplotlib)\n",
      "  Obtaining dependency information for pillow>=6.2.0 from https://files.pythonhosted.org/packages/8f/b8/1bf1012eee3059d150194d1fab148f553f3df42cf412e4e6656c772afad9/Pillow-10.0.0-cp39-cp39-win_amd64.whl.metadata\n",
      "  Downloading Pillow-10.0.0-cp39-cp39-win_amd64.whl.metadata (9.6 kB)\n",
      "Collecting pyparsing<3.1,>=2.3.1 (from matplotlib)\n",
      "  Using cached pyparsing-3.0.9-py3-none-any.whl (98 kB)\n",
      "Requirement already satisfied: python-dateutil>=2.7 in c:\\users\\zeeshan ahmed\\appdata\\roaming\\python\\python39\\site-packages (from matplotlib) (2.8.2)\n",
      "Collecting importlib-resources>=3.2.0 (from matplotlib)\n",
      "  Obtaining dependency information for importlib-resources>=3.2.0 from https://files.pythonhosted.org/packages/25/d4/592f53ce2f8dde8be5720851bd0ab71cc2e76c55978e4163ef1ab7e389bb/importlib_resources-6.0.1-py3-none-any.whl.metadata\n",
      "  Downloading importlib_resources-6.0.1-py3-none-any.whl.metadata (4.0 kB)\n",
      "Requirement already satisfied: zipp>=3.1.0 in c:\\users\\zeeshan ahmed\\appdata\\roaming\\python\\python39\\site-packages (from importlib-resources>=3.2.0->matplotlib) (3.16.2)\n",
      "Requirement already satisfied: six>=1.5 in c:\\users\\zeeshan ahmed\\appdata\\roaming\\python\\python39\\site-packages (from python-dateutil>=2.7->matplotlib) (1.16.0)\n",
      "Using cached matplotlib-3.7.2-cp39-cp39-win_amd64.whl (7.5 MB)\n",
      "Using cached contourpy-1.1.0-cp39-cp39-win_amd64.whl (429 kB)\n",
      "Using cached fonttools-4.42.1-cp39-cp39-win_amd64.whl (2.1 MB)\n",
      "Using cached importlib_resources-6.0.1-py3-none-any.whl (34 kB)\n",
      "Using cached kiwisolver-1.4.5-cp39-cp39-win_amd64.whl (56 kB)\n",
      "Using cached Pillow-10.0.0-cp39-cp39-win_amd64.whl (2.5 MB)\n",
      "Installing collected packages: pyparsing, pillow, kiwisolver, importlib-resources, fonttools, cycler, contourpy, matplotlib\n",
      "Successfully installed contourpy-1.1.0 cycler-0.11.0 fonttools-4.42.1 importlib-resources-6.0.1 kiwisolver-1.4.5 matplotlib-3.7.2 pillow-10.0.0 pyparsing-3.0.9\n"
     ]
    }
   ],
   "source": [
    "!pip install matplotlib"
   ]
  },
  {
   "cell_type": "code",
   "execution_count": 11,
   "metadata": {},
   "outputs": [
    {
     "name": "stderr",
     "output_type": "stream",
     "text": [
      "c:\\Users\\Zeeshan Ahmed\\anaconda3\\envs\\TextSummerizer\\lib\\site-packages\\tqdm\\auto.py:21: TqdmWarning: IProgress not found. Please update jupyter and ipywidgets. See https://ipywidgets.readthedocs.io/en/stable/user_install.html\n",
      "  from .autonotebook import tqdm as notebook_tqdm\n",
      "[nltk_data] Downloading package punkt to C:\\Users\\Zeeshan\n",
      "[nltk_data]     Ahmed\\AppData\\Roaming\\nltk_data...\n",
      "[nltk_data]   Package punkt is already up-to-date!\n"
     ]
    },
    {
     "data": {
      "text/plain": [
       "True"
      ]
     },
     "execution_count": 11,
     "metadata": {},
     "output_type": "execute_result"
    }
   ],
   "source": [
    "from transformers import pipeline, set_seed\n",
    "from datasets import load_dataset, load_from_disk\n",
    "import matplotlib.pyplot as plt\n",
    "from datasets import load_dataset\n",
    "import pandas as pd\n",
    "from datasets import load_dataset, load_metric\n",
    "\n",
    "from transformers import AutoModelForSeq2SeqLM, AutoTokenizer\n",
    "\n",
    "import nltk\n",
    "from nltk.tokenize import sent_tokenize\n",
    "\n",
    "from tqdm import tqdm\n",
    "import torch\n",
    "\n",
    "nltk.download(\"punkt\")"
   ]
  },
  {
   "cell_type": "code",
   "execution_count": 12,
   "metadata": {},
   "outputs": [
    {
     "data": {
      "text/plain": [
       "'cpu'"
      ]
     },
     "execution_count": 12,
     "metadata": {},
     "output_type": "execute_result"
    }
   ],
   "source": [
    "from transformers import AutoModelForSeq2SeqLM, AutoTokenizer\n",
    "\n",
    "device = \"cuda\" if torch.cuda.is_available() else \"cpu\"\n",
    "device"
   ]
  },
  {
   "cell_type": "code",
   "execution_count": 13,
   "metadata": {},
   "outputs": [
    {
     "name": "stderr",
     "output_type": "stream",
     "text": [
      "Some weights of PegasusForConditionalGeneration were not initialized from the model checkpoint at google/pegasus-cnn_dailymail and are newly initialized: ['model.encoder.embed_positions.weight', 'model.decoder.embed_positions.weight']\n",
      "You should probably TRAIN this model on a down-stream task to be able to use it for predictions and inference.\n"
     ]
    }
   ],
   "source": [
    "model_ckpt = \"google/pegasus-cnn_dailymail\"\n",
    "\n",
    "tokenizer = AutoTokenizer.from_pretrained(model_ckpt)\n",
    "\n",
    "model_pegasus = AutoModelForSeq2SeqLM.from_pretrained(model_ckpt).to(device)\n",
    "     "
   ]
  },
  {
   "cell_type": "code",
   "execution_count": 9,
   "metadata": {},
   "outputs": [
    {
     "name": "stderr",
     "output_type": "stream",
     "text": [
      "'unzip' is not recognized as an internal or external command,\n",
      "operable program or batch file.\n"
     ]
    }
   ],
   "source": [
    "#dowload & unzip data\n",
    "\n",
    "# !wget https://github.com/entbappy/Branching-tutorial/raw/master/summarizer-data.zip\n",
    "!unzip summarizer-data.zip"
   ]
  },
  {
   "cell_type": "code",
   "execution_count": 17,
   "metadata": {},
   "outputs": [
    {
     "ename": "FileNotFoundError",
     "evalue": "Directory C:/Users/Zeeshan Ahmed/Desktop/machine-learning/Text-summerizer/NLP-Text-Summerizer-Project/research/samsum_dataset not found",
     "output_type": "error",
     "traceback": [
      "\u001b[1;31m---------------------------------------------------------------------------\u001b[0m",
      "\u001b[1;31mFileNotFoundError\u001b[0m                         Traceback (most recent call last)",
      "\u001b[1;32mc:\\Users\\Zeeshan Ahmed\\Desktop\\machine-learning\\Text-summerizer\\NLP-Text-Summerizer-Project\\research\\Text_Summarization.ipynb Cell 9\u001b[0m line \u001b[0;36m1\n\u001b[1;32m----> <a href='vscode-notebook-cell:/c%3A/Users/Zeeshan%20Ahmed/Desktop/machine-learning/Text-summerizer/NLP-Text-Summerizer-Project/research/Text_Summarization.ipynb#X11sZmlsZQ%3D%3D?line=0'>1</a>\u001b[0m dataset_samsum \u001b[39m=\u001b[39m load_from_disk(\u001b[39m'\u001b[39;49m\u001b[39mC:/Users/Zeeshan Ahmed/Desktop/machine-learning/Text-summerizer/NLP-Text-Summerizer-Project/research/samsum_dataset\u001b[39;49m\u001b[39m'\u001b[39;49m)\n\u001b[0;32m      <a href='vscode-notebook-cell:/c%3A/Users/Zeeshan%20Ahmed/Desktop/machine-learning/Text-summerizer/NLP-Text-Summerizer-Project/research/Text_Summarization.ipynb#X11sZmlsZQ%3D%3D?line=1'>2</a>\u001b[0m dataset_samsum\n",
      "File \u001b[1;32mc:\\Users\\Zeeshan Ahmed\\anaconda3\\envs\\TextSummerizer\\lib\\site-packages\\datasets\\load.py:2244\u001b[0m, in \u001b[0;36mload_from_disk\u001b[1;34m(dataset_path, fs, keep_in_memory, storage_options)\u001b[0m\n\u001b[0;32m   2241\u001b[0m     path_join \u001b[39m=\u001b[39m os\u001b[39m.\u001b[39mpath\u001b[39m.\u001b[39mjoin\n\u001b[0;32m   2243\u001b[0m \u001b[39mif\u001b[39;00m \u001b[39mnot\u001b[39;00m fs\u001b[39m.\u001b[39mexists(dest_dataset_path):\n\u001b[1;32m-> 2244\u001b[0m     \u001b[39mraise\u001b[39;00m \u001b[39mFileNotFoundError\u001b[39;00m(\u001b[39mf\u001b[39m\u001b[39m\"\u001b[39m\u001b[39mDirectory \u001b[39m\u001b[39m{\u001b[39;00mdataset_path\u001b[39m}\u001b[39;00m\u001b[39m not found\u001b[39m\u001b[39m\"\u001b[39m)\n\u001b[0;32m   2245\u001b[0m \u001b[39mif\u001b[39;00m fs\u001b[39m.\u001b[39misfile(path_join(dest_dataset_path, config\u001b[39m.\u001b[39mDATASET_INFO_FILENAME)) \u001b[39mand\u001b[39;00m fs\u001b[39m.\u001b[39misfile(\n\u001b[0;32m   2246\u001b[0m     path_join(dest_dataset_path, config\u001b[39m.\u001b[39mDATASET_STATE_JSON_FILENAME)\n\u001b[0;32m   2247\u001b[0m ):\n\u001b[0;32m   2248\u001b[0m     \u001b[39mreturn\u001b[39;00m Dataset\u001b[39m.\u001b[39mload_from_disk(dataset_path, keep_in_memory\u001b[39m=\u001b[39mkeep_in_memory, storage_options\u001b[39m=\u001b[39mstorage_options)\n",
      "\u001b[1;31mFileNotFoundError\u001b[0m: Directory C:/Users/Zeeshan Ahmed/Desktop/machine-learning/Text-summerizer/NLP-Text-Summerizer-Project/research/samsum_dataset not found"
     ]
    }
   ],
   "source": [
    "\n",
    "     "
   ]
  },
  {
   "cell_type": "code",
   "execution_count": null,
   "metadata": {},
   "outputs": [],
   "source": []
  },
  {
   "cell_type": "code",
   "execution_count": null,
   "metadata": {},
   "outputs": [],
   "source": []
  }
 ],
 "metadata": {
  "kernelspec": {
   "display_name": "TextSummerizer",
   "language": "python",
   "name": "python3"
  },
  "language_info": {
   "codemirror_mode": {
    "name": "ipython",
    "version": 3
   },
   "file_extension": ".py",
   "mimetype": "text/x-python",
   "name": "python",
   "nbconvert_exporter": "python",
   "pygments_lexer": "ipython3",
   "version": "3.9.18"
  },
  "orig_nbformat": 4
 },
 "nbformat": 4,
 "nbformat_minor": 2
}
